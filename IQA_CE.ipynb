{
 "cells": [
  {
   "cell_type": "code",
   "execution_count": 1,
   "metadata": {},
   "outputs": [
    {
     "name": "stdout",
     "output_type": "stream",
     "text": [
      "Requirement already satisfied: opencv-python in c:\\users\\alok_\\anaconda3\\lib\\site-packages (4.4.0.44)\n",
      "Requirement already satisfied: numpy>=1.17.3 in c:\\users\\alok_\\anaconda3\\lib\\site-packages (from opencv-python) (1.18.5)\n"
     ]
    }
   ],
   "source": [
    "import sys\n",
    "!{sys.executable} -m pip install opencv-python"
   ]
  },
  {
   "cell_type": "code",
   "execution_count": 2,
   "metadata": {},
   "outputs": [],
   "source": [
    "\n",
    "# Importing Libraries\n",
    "import cv2\n",
    "import numpy as np\n",
    "import os\n",
    "import matplotlib.pyplot as plt"
   ]
  },
  {
   "cell_type": "code",
   "execution_count": null,
   "metadata": {},
   "outputs": [],
   "source": [
    "\"\"\" Authored By: Alokendu Mazumder\"\"\""
   ]
  },
  {
   "cell_type": "code",
   "execution_count": 3,
   "metadata": {},
   "outputs": [],
   "source": [
    "Path2 = './Downloads/IETR_DIBR_database_PNG/'\n",
    "files2 = os.listdir(Path2)\n",
    "images = []\n",
    "\n",
    "#Readling all the images and storing into an array\n",
    "for name in files2:\n",
    "    temp = cv2.imread(Path2+name)\n",
    "    temp = cv2.cvtColor(temp,cv2.COLOR_BGR2GRAY)\n",
    "    temp = cv2.resize(temp, (100,100), interpolation = cv2.INTER_AREA)\n",
    "    images.append(temp.flatten())"
   ]
  },
  {
   "cell_type": "code",
   "execution_count": 72,
   "metadata": {},
   "outputs": [
    {
     "name": "stdout",
     "output_type": "stream",
     "text": [
      "(10000, 140)\n"
     ]
    }
   ],
   "source": [
    "#Substracting mean from all images for normalization    \n",
    "images = np.array(images)\n",
    "mu = np.mean(images,0)\n",
    "images = images-mu\n",
    "\n",
    "print (images.shape)\n"
   ]
  },
  {
   "cell_type": "code",
   "execution_count": 73,
   "metadata": {},
   "outputs": [
    {
     "name": "stdout",
     "output_type": "stream",
     "text": [
      "(10000, 140)\n"
     ]
    }
   ],
   "source": [
    "u, s, v = np.linalg.svd(images, full_matrices=False)\n",
    "print(u.shape)"
   ]
  },
  {
   "cell_type": "code",
   "execution_count": 5,
   "metadata": {},
   "outputs": [],
   "source": [
    "Path3 = './Downloads/Original_IETR/'\n",
    "files3 = os.listdir(Path3)\n",
    "images_orig = []\n",
    "\n",
    "#Readling all the images and storing into an array\n",
    "for namex in files3:\n",
    "    tempx = cv2.imread(Path3+namex)\n",
    "    tempx = cv2.cvtColor(tempx,cv2.COLOR_BGR2GRAY)\n",
    "    tempx = cv2.resize(tempx, (100,100), interpolation = cv2.INTER_AREA)\n",
    "    images_orig.append(tempx.flatten())"
   ]
  },
  {
   "cell_type": "code",
   "execution_count": 76,
   "metadata": {},
   "outputs": [
    {
     "name": "stdout",
     "output_type": "stream",
     "text": [
      "(10000, 10)\n"
     ]
    }
   ],
   "source": [
    "images_orig = np.array(images_orig)\n",
    "mu1 = np.mean(images_orig,0)\n",
    "images_orig = images_orig-mu1\n",
    "\n",
    "print (images_orig.shape)"
   ]
  },
  {
   "cell_type": "code",
   "execution_count": 78,
   "metadata": {},
   "outputs": [
    {
     "name": "stdout",
     "output_type": "stream",
     "text": [
      "(10000, 10)\n"
     ]
    }
   ],
   "source": [
    "u1, s1, v1 = np.linalg.svd(images_orig, full_matrices=False)\n",
    "print(u1.shape)"
   ]
  },
  {
   "cell_type": "code",
   "execution_count": 79,
   "metadata": {},
   "outputs": [
    {
     "name": "stdout",
     "output_type": "stream",
     "text": [
      "[ 0.52818759  0.          0.52818759  1.05637518  0.52818759  1.05637518\n",
      "  1.05637518  0.52818759  1.58456276  2.11275035  1.58456276  0.52818759\n",
      "  2.11275035  2.11275035  3.16912553  3.69731311  5.81006347  7.39462623\n",
      "  5.81006347  5.28187588  6.33825105  4.75368829  5.28187588  4.75368829\n",
      "  6.33825105  5.81006347  3.16912553  5.28187588  4.2255007   8.45100141\n",
      "  5.81006347  4.75368829  6.86643864  7.92281382 10.03556417 11.62012693\n",
      " 17.95837799 15.31744005 17.95837799 17.4301904  17.95837799 16.90200281\n",
      " 19.01475316 15.84562763 17.4301904  16.37381522 15.84562763 20.59931593\n",
      " 30.63488009 18.48656557 27.99394215 24.82481663 30.10669251 25.8811918\n",
      " 33.80400562 33.80400562 38.02950632 32.21944286 36.97313115 31.69125527\n",
      " 33.27581803 31.69125527 35.38856838 40.14225667 30.63488009 32.21944286\n",
      " 36.44494356 40.14225667 34.8603808  38.02950632 34.8603808  43.83956979\n",
      " 36.97313115 38.55769391 40.67044426 32.21944286 35.38856838 40.14225667\n",
      " 41.19863185 29.57850492 43.83956979 30.10669251 36.97313115 35.91675597\n",
      " 40.67044426 33.27581803 34.8603808  33.27581803 23.24025386 31.16306768\n",
      " 27.46575457 27.99394215 32.74763045 32.74763045 38.55769391 38.02950632\n",
      " 36.97313115 36.44494356 38.02950632 35.91675597 35.91675597 31.69125527\n",
      " 32.21944286 45.95232014 34.33219321 30.63488009 40.14225667 38.02950632\n",
      " 39.61406909 31.69125527 42.25500703 30.10669251 45.42413255 50.70600843\n",
      " 38.55769391 33.27581803 33.80400562 41.19863185 42.78319461 29.05031733\n",
      " 30.63488009 34.33219321 37.50131874 40.67044426 33.80400562 43.83956979\n",
      " 39.61406909 45.42413255 38.55769391 34.33219321 27.46575457 33.80400562\n",
      " 33.80400562 30.63488009 28.52212974 31.16306768 27.46575457 25.35300422\n",
      " 30.63488009 26.93756698 29.05031733 34.8603808  26.40937939 26.93756698\n",
      " 25.8811918  32.21944286 31.16306768 24.82481663 29.57850492 30.10669251\n",
      " 35.91675597 30.10669251 31.69125527 24.29662904 22.18387869 24.82481663\n",
      " 20.59931593 20.07112834 28.52212974 24.82481663 21.12750351 15.84562763\n",
      " 21.12750351 24.82481663 22.71206628 21.12750351 25.35300422 33.27581803\n",
      " 22.71206628 17.95837799 20.59931593 21.6556911  21.6556911  15.84562763\n",
      " 24.29662904 28.52212974 21.12750351 16.37381522 14.78925246 16.37381522\n",
      " 21.12750351 17.95837799 16.37381522 13.2046897  16.90200281 15.84562763\n",
      " 12.67650211 10.56375176 14.26106487  8.97918899 12.67650211 13.2046897\n",
      "  9.50737658  8.97918899  9.50737658 10.03556417 13.2046897   7.92281382\n",
      " 16.37381522 18.48656557 14.78925246 12.67650211 11.09193934 13.73287728\n",
      " 10.03556417  6.33825105  9.50737658 12.14831452 11.09193934 12.67650211\n",
      " 11.09193934 11.09193934 12.14831452 12.14831452 14.78925246 11.09193934\n",
      "  9.50737658 10.56375176 12.67650211  6.33825105 13.2046897   9.50737658\n",
      " 10.56375176 12.14831452  9.50737658 11.62012693  7.92281382  6.86643864\n",
      "  7.92281382 11.62012693 10.56375176 13.2046897   8.97918899  6.86643864\n",
      " 11.09193934  6.86643864  6.33825105 12.14831452  8.45100141  5.28187588\n",
      " 15.31744005  7.92281382  6.33825105  6.33825105  5.28187588  1.05637518\n",
      "  4.2255007   2.11275035  1.05637518  0.52818759  1.05637518  1.58456276\n",
      "  2.64093794  2.11275035  0.52818759  1.05637518]\n"
     ]
    },
    {
     "data": {
      "image/png": "[encoded data removed]",
      "text/plain": [
       "<Figure size 432x288 with 1 Axes>"
      ]
     },
     "metadata": {
      "needs_background": "light"
     },
     "output_type": "display_data"
    }
   ],
   "source": [
    "xx, bins, p=plt.hist(u1[:,0], 256, density=True) \n",
    "print(xx)"
   ]
  },
  {
   "cell_type": "code",
   "execution_count": 80,
   "metadata": {},
   "outputs": [
    {
     "name": "stdout",
     "output_type": "stream",
     "text": [
      "(10, 256)\n"
     ]
    },
    {
     "data": {
      "image/png": "[encoded data removed]",
      "text/plain": [
       "<Figure size 432x288 with 1 Axes>"
      ]
     },
     "metadata": {
      "needs_background": "light"
     },
     "output_type": "display_data"
    }
   ],
   "source": [
    "pdf_orig=[]\n",
    "for i in range(images_orig.shape[1]):\n",
    "    xx, bins, p=plt.hist(images_orig[:,i], 256, density=True)\n",
    "    pdf_orig.append(xx)\n",
    "pdf_orig=np.array(pdf_orig)\n",
    "\n",
    "print(pdf_orig.shape)"
   ]
  },
  {
   "cell_type": "code",
   "execution_count": 81,
   "metadata": {},
   "outputs": [
    {
     "name": "stdout",
     "output_type": "stream",
     "text": [
      "(140, 256)\n"
     ]
    },
    {
     "data": {
      "image/png": "[encoded data removed]",
      "text/plain": [
       "<Figure size 432x288 with 1 Axes>"
      ]
     },
     "metadata": {
      "needs_background": "light"
     },
     "output_type": "display_data"
    }
   ],
   "source": [
    "pdf_test=[]\n",
    "for j in range(images.shape[1]):\n",
    "    xxx, bins, p=plt.hist(images[:,j], 256, density=True)\n",
    "    pdf_test.append(xxx)\n",
    "pdf_test=np.array(pdf_test)\n",
    "print(pdf_test.shape)"
   ]
  },
  {
   "cell_type": "code",
   "execution_count": 82,
   "metadata": {},
   "outputs": [],
   "source": [
    "epsilon=0.00000001\n",
    "pdf_orig=pdf_orig+epsilon\n",
    "pdf_test=pdf_test+epsilon\n"
   ]
  },
  {
   "cell_type": "code",
   "execution_count": 83,
   "metadata": {},
   "outputs": [],
   "source": [
    "#defining cross entropy loss for scoring\n",
    "\n",
    "def KL(x, y):\n",
    "    x = np.asarray(x, dtype=np.float)\n",
    "    y = np.asarray(y, dtype=np.float)\n",
    "\n",
    "    return np.sum(x * np.log2(y), 0)"
   ]
  },
  {
   "cell_type": "code",
   "execution_count": 84,
   "metadata": {},
   "outputs": [
    {
     "name": "stdout",
     "output_type": "stream",
     "text": [
      "(14, 256)\n"
     ]
    }
   ],
   "source": [
    "pdf_test1=pdf_test[0:14,]\n",
    "pdf_test2=pdf_test[14:28,]\n",
    "pdf_test3=pdf_test[28:42,]\n",
    "pdf_test4=pdf_test[42:56,]\n",
    "pdf_test5=pdf_test[56:70,]\n",
    "pdf_test6=pdf_test[70:84,]\n",
    "pdf_test7=pdf_test[84:98,]\n",
    "pdf_test8=pdf_test[98:112,]\n",
    "pdf_test9=pdf_test[112:126,]\n",
    "pdf_test10=pdf_test[126:140,]\n",
    "\n",
    "pdf_synthetic1=np.append(pdf_test2,pdf_test3)\n",
    "pdf_syn=np.append(pdf_synthetic1,pdf_test10)\n",
    "print(pdf_test10.shape)\n",
    "#print(pdf_syn)"
   ]
  },
  {
   "cell_type": "code",
   "execution_count": 85,
   "metadata": {},
   "outputs": [
    {
     "name": "stdout",
     "output_type": "stream",
     "text": [
      "-8.248087812640897\n"
     ]
    }
   ],
   "source": [
    "\n",
    "print(KL(pdf_orig[0,:],pdf_test1[9,:]))"
   ]
  },
  {
   "cell_type": "code",
   "execution_count": 86,
   "metadata": {},
   "outputs": [
    {
     "name": "stdout",
     "output_type": "stream",
     "text": [
      "(42,)\n"
     ]
    }
   ],
   "source": [
    "KLD1=[]\n",
    "KLD2=[]\n",
    "KLD3=[]\n",
    "KLD4=[]\n",
    "KLD5=[]\n",
    "KLD6=[]\n",
    "KLD7=[]\n",
    "KLD8=[]\n",
    "KLD9=[]\n",
    "KLD10=[]\n",
    "\n",
    "\n",
    "for k1 in range(0,14):\n",
    "    KLD1.append(KL(pdf_orig[0,:],pdf_test1[k1,:]))\n",
    "    KLD2.append(KL(pdf_orig[1,:],pdf_test2[k1,:]))\n",
    "    KLD3.append(KL(pdf_orig[2,:],pdf_test3[k1,:]))\n",
    "    KLD4.append(KL(pdf_orig[3,:],pdf_test4[k1,:]))\n",
    "    KLD5.append(KL(pdf_orig[4,:],pdf_test5[k1,:]))\n",
    "    KLD6.append(KL(pdf_orig[5,:],pdf_test6[k1,:]))\n",
    "    KLD7.append(KL(pdf_orig[6,:],pdf_test7[k1,:]))\n",
    "    KLD8.append(KL(pdf_orig[7,:],pdf_test8[k1,:]))\n",
    "    KLD9.append(KL(pdf_orig[8,:],pdf_test9[k1,:]))\n",
    "    KLD10.append(KL(pdf_orig[9,:],pdf_test10[k1,:]))\n",
    "    \n",
    "    \n",
    "\n",
    "#Synthetic scores array\n",
    "\n",
    "KLD_syn=[]\n",
    "KLD_syn.append(KLD3)\n",
    "KLD_syn.append(KLD4)\n",
    "KLD_syn.append(KLD10)\n",
    "\n",
    "KLD_synf=np.array(KLD_syn)\n",
    "KLD_syn=KLD_synf.flatten()\n",
    "print(KLD_syn.shape)"
   ]
  },
  {
   "cell_type": "code",
   "execution_count": 87,
   "metadata": {},
   "outputs": [
    {
     "data": {
      "text/plain": [
       "'\"KLD_arr=[]\\nKLD_arr.append(KLD1)\\nKLD_arr.append(KLD2)\\nKLD_arr.append(KLD3)\\nKLD_arr.append(KLD4)\\nKLD_arr.append(KLD5)\\nKLD_arr.append(KLD6)\\nKLD_arr.append(KLD7)\\nKLD_arr.append(KLD8)\\nKLD_arr.append(KLD9)\\nKLD_arr.append(KLD10)\\nKLD_arr=np.array(KLD_arr)\\n\\nprint(KLD_arr.shape)'"
      ]
     },
     "execution_count": 87,
     "metadata": {},
     "output_type": "execute_result"
    }
   ],
   "source": [
    "\"\"\"\"KLD_arr=[]\n",
    "KLD_arr.append(KLD1)\n",
    "KLD_arr.append(KLD2)\n",
    "KLD_arr.append(KLD3)\n",
    "KLD_arr.append(KLD4)\n",
    "KLD_arr.append(KLD5)\n",
    "KLD_arr.append(KLD6)\n",
    "KLD_arr.append(KLD7)\n",
    "KLD_arr.append(KLD8)\n",
    "KLD_arr.append(KLD9)\n",
    "KLD_arr.append(KLD10)\n",
    "KLD_arr=np.array(KLD_arr)\n",
    "\n",
    "print(KLD_arr.shape)\"\"\""
   ]
  },
  {
   "cell_type": "code",
   "execution_count": 88,
   "metadata": {},
   "outputs": [
    {
     "name": "stdout",
     "output_type": "stream",
     "text": [
      "(7, 14)\n"
     ]
    }
   ],
   "source": [
    "#new approach\n",
    "#original image score array\n",
    "KLD_arr=[]\n",
    "KLD_arr.append(KLD1)\n",
    "\n",
    "KLD_arr.append(KLD4)\n",
    "KLD_arr.append(KLD5)\n",
    "KLD_arr.append(KLD6)\n",
    "KLD_arr.append(KLD7)\n",
    "KLD_arr.append(KLD8)\n",
    "KLD_arr.append(KLD9)\n",
    "\n",
    "KLD_arr=np.array(KLD_arr)\n",
    "\n",
    "print(KLD_arr.shape)"
   ]
  },
  {
   "cell_type": "code",
   "execution_count": 89,
   "metadata": {},
   "outputs": [],
   "source": [
    "objective_scores_orig=KLD_arr.flatten()\n",
    "objective_scores_syn=KLD_syn\n",
    "\n",
    "b1=objective_scores_orig/np.sum(abs(objective_scores_orig)) #objective scores of original images (CE)\n",
    "b2=objective_scores_syn/np.sum(abs(objective_scores_syn)) #objective scores of synthetic images (CE)\n",
    "\n",
    "subjective_scores = np.array([0.591450046206532,\n",
    "0.662523941863571,\n",
    "0.482770611989651,\n",
    "0.784196184203399,\n",
    "0.282522277106338,\n",
    "0.647464473052446,\n",
    "0.305047110033448,\n",
    "0.29277954439822,\n",
    "0.489600552640186,\n",
    "0.497514516912261,\n",
    "0.499754554978394,\n",
    "0.826163743067733,\n",
    "0.162313593846142,\n",
    "0.452732703190989,\n",
    "0.679082366068258,\n",
    "0.529551830265255,\n",
    "0.672434449272598,\n",
    "0.848435869440699,\n",
    "0.239381573498838,\n",
    "0.519363875165456,\n",
    "0.098485509875757,\n",
    "0.250368894907729,\n",
    "0.774666840849666,\n",
    "0.580021871381838,\n",
    "0.682754501970252,\n",
    "0.964006325086385,\n",
    "0.432258795632313,\n",
    "0.517068804044989,\n",
    "0.863510062111633,\n",
    "0.908324011242464,\n",
    "0.738170293104672,\n",
    "0.866538453029475,\n",
    "0.81877185003214,\n",
    "0.838498549081274,\n",
    "0.036201738640763,\n",
    "0.350598252172135,\n",
    "0.619883844248706,\n",
    "0.715318324601426,\n",
    "0.673017796296823,\n",
    "0.651627664348734,\n",
    "0.505453784615257,\n",
    "0.61210770043521,\n",
    "0.240174830416431,\n",
    "0.173654841694507,\n",
    "0.530078954891447,\n",
    "0.837074523344541,\n",
    "0.478473785829511,\n",
    "0.833064726381777,\n",
    "0.369448429070808,\n",
    "0.686376045932332,\n",
    "0.560928889708332,\n",
    "0.819290713651848,\n",
    "0.416449954740804,\n",
    "0.66758800796767,\n",
    "0.149527360137351,\n",
    "0.435486201211814,\n",
    "0.032865927003549,\n",
    "0.167095821472421,\n",
    "0.633511207418824,\n",
    "0.58086832685444,\n",
    "0.498674311251136,\n",
    "0.90645743512307,\n",
    "0.389031972482008,\n",
    "0.406285009058487,\n",
    "0.595752358048127,\n",
    "0.51135819227138,\n",
    "0.518993287064144,\n",
    "0.924073630989853,\n",
    "0.330146860323064,\n",
    "0.439550081679502,\n",
    "0.282999409333829,\n",
    "0.201693696265621,\n",
    "0.775300901852862,\n",
    "0.647753354344015,\n",
    "0.551428333644776,\n",
    "0.777188452399451,\n",
    "0.367546271185079,\n",
    "0.624584748177781,\n",
    "0.754365815714084,\n",
    "0.785579080784981,\n",
    "0.77966129542017,\n",
    "0.669638401087394,\n",
    "0.133265501709099,\n",
    "0.657534869077368,\n",
    "0.090079728400751,\n",
    "0.219564569389693,\n",
    "0.583889735265927,\n",
    "0.716360444074853,\n",
    "0.594113188456475,\n",
    "0.728014429567815,\n",
    "0.107997663227676,\n",
    "0.678428567551548,\n",
    "0.710816964350032,\n",
    "0.943633121341149,\n",
    "0.705653821098252,\n",
    "0.619209641653573,\n",
    "0.264531428485334,\n",
    "0.753319937363287,\n",
    "0.036670518094472,\n",
    "0.13962757767007,\n",
    "0.745884386453196,\n",
    "0.526282428013834,\n",
    "0.660350709447516,\n",
    "0.863305906634233,\n",
    "0.2967184073528,\n",
    "0.27047354346028,\n",
    "0.719367700726814,\n",
    "0.715783896474824,\n",
    "0.590785267234655,\n",
    "0.993188588327144,\n",
    "0.499050685111133,\n",
    "0.392189069256821,\n",
    "0.047356890366184,\n",
    "0.16789800389884,\n",
    "0.628484045879569,\n",
    "0.712783798798584,\n",
    "0.723456269376853,\n",
    "0.837042232299577,\n",
    "0.255287851409832,\n",
    "0.303467677517448,\n",
    "0.690995710536917,\n",
    "0.786814526447799,\n",
    "0.734118125343431,\n",
    "0.822787013990674,\n",
    "0.280087692964191,\n",
    "0.227792912603308,\n",
    "0.02104915158573,\n",
    "0.149706508121121,\n",
    "0.693170061835007,\n",
    "0.603005180641202,\n",
    "0.581354154027684,\n",
    "0.907311845453262,\n",
    "0.206689847152443,\n",
    "0.303516481939392,\n",
    "0.714746037750429, \n",
    "0.628444329467981,\n",
    "0.555000504270454,\n",
    "0.9609795663716,\n",
    "0.119566755981298,\n",
    "0.275728490210608])\n",
    "\n",
    "#Subjective scores of original images\n",
    "new_sub_orig=np.array([0.591450046206532,\n",
    "0.662523941863571,\n",
    "0.482770611989651,\n",
    "0.784196184203399,\n",
    "0.282522277106338,\n",
    "0.647464473052446,\n",
    "0.305047110033448,\n",
    "0.29277954439822,\n",
    "0.489600552640186,\n",
    "0.497514516912261,\n",
    "0.499754554978394,\n",
    "0.826163743067733,\n",
    "0.162313593846142,\n",
    "0.452732703190989,\n",
    "0.240174830416431,\n",
    "0.173654841694507,\n",
    "0.530078954891447,\n",
    "0.837074523344541,\n",
    "0.478473785829511,\n",
    "0.833064726381777,\n",
    "0.369448429070808,\n",
    "0.686376045932332,\n",
    "0.560928889708332,\n",
    "0.819290713651848,\n",
    "0.416449954740804,\n",
    "0.66758800796767,\n",
    "0.149527360137351,\n",
    "0.435486201211814,\n",
    "0.032865927003549,\n",
    "0.167095821472421,\n",
    "0.633511207418824,\n",
    "0.58086832685444,\n",
    "0.498674311251136,\n",
    "0.90645743512307,\n",
    "0.389031972482008,\n",
    "0.406285009058487,\n",
    "0.595752358048127,\n",
    "0.51135819227138,\n",
    "0.518993287064144,\n",
    "0.924073630989853,\n",
    "0.330146860323064,\n",
    "0.439550081679502,\n",
    "0.282999409333829,\n",
    "0.201693696265621,\n",
    "0.775300901852862,\n",
    "0.647753354344015,\n",
    "0.551428333644776,\n",
    "0.777188452399451,\n",
    "0.367546271185079,\n",
    "0.624584748177781,\n",
    "0.754365815714084,\n",
    "0.785579080784981,\n",
    "0.77966129542017,\n",
    "0.669638401087394,\n",
    "0.133265501709099,\n",
    "0.657534869077368,\n",
    "0.090079728400751,\n",
    "0.219564569389693,\n",
    "0.583889735265927,\n",
    "0.716360444074853,\n",
    "0.594113188456475,\n",
    "0.728014429567815,\n",
    "0.107997663227676,\n",
    "0.678428567551548,\n",
    "0.710816964350032,\n",
    "0.943633121341149,\n",
    "0.705653821098252,\n",
    "0.619209641653573,\n",
    "0.264531428485334,\n",
    "0.753319937363287,\n",
    "0.036670518094472,\n",
    "0.13962757767007,\n",
    "0.745884386453196,\n",
    "0.526282428013834,\n",
    "0.660350709447516,\n",
    "0.863305906634233,\n",
    "0.2967184073528,\n",
    "0.27047354346028,\n",
    "0.719367700726814,\n",
    "0.715783896474824,\n",
    "0.590785267234655,\n",
    "0.993188588327144,\n",
    "0.499050685111133,\n",
    "0.392189069256821,\n",
    "0.047356890366184,\n",
    "0.16789800389884,\n",
    "0.628484045879569,\n",
    "0.712783798798584,\n",
    "0.723456269376853,\n",
    "0.837042232299577,\n",
    "0.255287851409832,\n",
    "0.303467677517448,\n",
    "0.690995710536917,\n",
    "0.786814526447799,\n",
    "0.734118125343431,\n",
    "0.822787013990674,\n",
    "0.280087692964191,\n",
    "0.227792912603308\n",
    "])\n",
    "\n",
    "#sunjective scores of synthetic images\n",
    "\n",
    "new_sub_syn=np.array([0.679082366068258,\n",
    "0.529551830265255,\n",
    "0.672434449272598,\n",
    "0.848435869440699,\n",
    "0.239381573498838,\n",
    "0.519363875165456,\n",
    "0.098485509875757,\n",
    "0.250368894907729,\n",
    "0.774666840849666,\n",
    "0.580021871381838,\n",
    "0.682754501970252,\n",
    "0.964006325086385,\n",
    "0.432258795632313,\n",
    "0.517068804044989,\n",
    "0.863510062111633,\n",
    "0.908324011242464,\n",
    "0.738170293104672,\n",
    "0.866538453029475,\n",
    "0.81877185003214,\n",
    "0.838498549081274,\n",
    "0.036201738640763,\n",
    "0.350598252172135,\n",
    "0.619883844248706,\n",
    "0.715318324601426,\n",
    "0.673017796296823,\n",
    "0.651627664348734,\n",
    "0.505453784615257,\n",
    "0.61210770043521,\n",
    "0.02104915158573,\n",
    "0.149706508121121,\n",
    "0.693170061835007,\n",
    "0.603005180641202,\n",
    "0.581354154027684,\n",
    "0.907311845453262,\n",
    "0.206689847152443,\n",
    "0.303516481939392,\n",
    "0.714746037750429, \n",
    "0.628444329467981,\n",
    "0.555000504270454,\n",
    "0.9609795663716,\n",
    "0.119566755981298,\n",
    "0.275728490210608])"
   ]
  },
  {
   "cell_type": "code",
   "execution_count": 90,
   "metadata": {},
   "outputs": [
    {
     "name": "stdout",
     "output_type": "stream",
     "text": [
      "-0.040254815209607525\n"
     ]
    }
   ],
   "source": [
    "import scipy\n",
    "from scipy import stats\n",
    "s1=scipy.stats.pearsonr((KLD1/np.sum(KLD1)),subjective_scores[0:14])\n",
    "s2=scipy.stats.pearsonr((KLD2/np.sum(KLD2)),subjective_scores[14:28])\n",
    "s3=scipy.stats.pearsonr((KLD3/np.sum(KLD3)),subjective_scores[28:42])\n",
    "s4=scipy.stats.pearsonr((KLD4/np.sum(KLD4)),subjective_scores[42:56])\n",
    "s5=scipy.stats.pearsonr((KLD5/np.sum(KLD5)),subjective_scores[56:70])\n",
    "s6=scipy.stats.pearsonr((KLD6/np.sum(KLD6)),subjective_scores[70:84])\n",
    "s7=scipy.stats.pearsonr((KLD7/np.sum(KLD7)),subjective_scores[84:98])\n",
    "s8=scipy.stats.pearsonr((KLD8/np.sum(KLD8)),subjective_scores[98:112])\n",
    "s9=scipy.stats.pearsonr((KLD9/np.sum(KLD9)),subjective_scores[112:126])\n",
    "s10=scipy.stats.pearsonr((KLD10/np.sum(KLD10)),subjective_scores[126:140])\n",
    "\n",
    "final=(s9[0])#+s2[0]+s3[0]+s4[0]+s5[0]+s6[0]+s7[0]+s8[0]+s9[0]+s10[0])\n",
    "print(final)"
   ]
  },
  {
   "cell_type": "code",
   "execution_count": 91,
   "metadata": {},
   "outputs": [
    {
     "name": "stdout",
     "output_type": "stream",
     "text": [
      "Weighted Spearman Corr Coefficient is : 0.7149135503925527\n",
      "Weighted Pearson Corr Coefficient is : 0.684262107728817\n",
      "Weighted MSE  : 1.5653903944886194\n",
      "Modified Weighted Spearman Corr Coefficient is : 0.08539509913807473\n",
      "1.4141287132199085\n"
     ]
    }
   ],
   "source": [
    "#Weightaed final results\n",
    "\n",
    "import scipy\n",
    "from scipy import stats\n",
    "#weightaed corr. coefficient\n",
    "corr_orig=scipy.stats.spearmanr(new_sub_orig,b1)\n",
    "corr_syn=scipy.stats.spearmanr(new_sub_syn,b2)\n",
    "\n",
    "corr_orig1=scipy.stats.pearsonr(new_sub_orig,b1)\n",
    "corr_syn1=scipy.stats.pearsonr(new_sub_syn,b2)\n",
    "\n",
    "final=np.power(np.abs(corr_orig[0]),0.7)+np.power(np.abs(corr_syn[0]),0.3)\n",
    "final1=np.power(np.abs(corr_orig1[0]),0.7)+np.power(np.abs(corr_syn1[0]),0.3)\n",
    "final2=np.power(np.sqrt(np.square(np.subtract(new_sub_orig,b1)).mean()),0.7)+np.power(np.sqrt(np.square(np.subtract(new_sub_syn,b2)).mean()),0.3)\n",
    "\n",
    "final3=0.7*(np.abs(corr_orig[0]))+0.3*(np.abs(corr_syn[0]))\n",
    "\n",
    "finalx=np.power((final/(final+final1)),0.5)+np.power((final1/(final+final1)),0.5)\n",
    "print(\"Weighted Spearman Corr Coefficient is : \" + str(final))\n",
    "print(\"Weighted Pearson Corr Coefficient is : \" + str(final1))\n",
    "print(\"Weighted MSE  : \" + str(final2))\n",
    "print(\"Modified Weighted Spearman Corr Coefficient is : \" + str(final3))\n",
    "print(finalx)\n"
   ]
  },
  {
   "cell_type": "markdown",
   "metadata": {},
   "source": []
  },
  {
   "cell_type": "code",
   "execution_count": 26,
   "metadata": {},
   "outputs": [
    {
     "name": "stdout",
     "output_type": "stream",
     "text": [
      "-1.1547371309019387\n"
     ]
    }
   ],
   "source": [
    "s1=KL((KLD1/np.sum(KLD1)),subjective_scores[0:14])\n",
    "s2=KL((KLD2/np.sum(KLD2)),subjective_scores[14:28])\n",
    "s3=KL((KLD3/np.sum(KLD3)),subjective_scores[28:42])\n",
    "s4=KL((KLD4/np.sum(KLD4)),subjective_scores[42:56])\n",
    "s5=KL((KLD5/np.sum(KLD5)),subjective_scores[56:70])\n",
    "s6=KL((KLD6/np.sum(KLD6)),subjective_scores[70:84])\n",
    "s7=KL((KLD7/np.sum(KLD7)),subjective_scores[84:98])\n",
    "s8=KL((KLD8/np.sum(KLD8)),subjective_scores[98:112])\n",
    "s9=KL((KLD9/np.sum(KLD9)),subjective_scores[112:126])\n",
    "s10=KL((KLD10/np.sum(KLD10)),subjective_scores[126:140])\n",
    "\n",
    "print((s1+s2+s3+s4+s5+s6+s7+s8+s9+s10)/10)"
   ]
  },
  {
   "cell_type": "code",
   "execution_count": 27,
   "metadata": {},
   "outputs": [
    {
     "ename": "NameError",
     "evalue": "name 'b' is not defined",
     "output_type": "error",
     "traceback": [
      "\u001b[1;31m---------------------------------------------------------------------------\u001b[0m",
      "\u001b[1;31mNameError\u001b[0m                                 Traceback (most recent call last)",
      "\u001b[1;32m<ipython-input-27-f0a6c856e94c>\u001b[0m in \u001b[0;36m<module>\u001b[1;34m\u001b[0m\n\u001b[0;32m      2\u001b[0m \u001b[1;33m\u001b[0m\u001b[0m\n\u001b[0;32m      3\u001b[0m \u001b[1;32mfrom\u001b[0m \u001b[0mscipy\u001b[0m \u001b[1;32mimport\u001b[0m \u001b[0mstats\u001b[0m\u001b[1;33m\u001b[0m\u001b[1;33m\u001b[0m\u001b[0m\n\u001b[1;32m----> 4\u001b[1;33m \u001b[0mprint\u001b[0m\u001b[1;33m(\u001b[0m\u001b[1;34m\"Pearson Coeff : \"\u001b[0m\u001b[1;33m+\u001b[0m\u001b[0mstr\u001b[0m\u001b[1;33m(\u001b[0m\u001b[0mscipy\u001b[0m\u001b[1;33m.\u001b[0m\u001b[0mstats\u001b[0m\u001b[1;33m.\u001b[0m\u001b[0mpearsonr\u001b[0m\u001b[1;33m(\u001b[0m\u001b[0mb\u001b[0m\u001b[1;33m,\u001b[0m\u001b[0msubjective_scores\u001b[0m\u001b[1;33m)\u001b[0m\u001b[1;33m[\u001b[0m\u001b[1;36m0\u001b[0m\u001b[1;33m]\u001b[0m\u001b[1;33m)\u001b[0m\u001b[1;33m)\u001b[0m\u001b[1;33m\u001b[0m\u001b[1;33m\u001b[0m\u001b[0m\n\u001b[0m\u001b[0;32m      5\u001b[0m \u001b[0mprint\u001b[0m\u001b[1;33m(\u001b[0m\u001b[1;34m\"Spearman Coeff : \"\u001b[0m\u001b[1;33m+\u001b[0m\u001b[0mstr\u001b[0m\u001b[1;33m(\u001b[0m\u001b[0mscipy\u001b[0m\u001b[1;33m.\u001b[0m\u001b[0mstats\u001b[0m\u001b[1;33m.\u001b[0m\u001b[0mspearmanr\u001b[0m\u001b[1;33m(\u001b[0m\u001b[0mb\u001b[0m\u001b[1;33m,\u001b[0m\u001b[0msubjective_scores\u001b[0m\u001b[1;33m)\u001b[0m\u001b[1;33m[\u001b[0m\u001b[1;36m0\u001b[0m\u001b[1;33m]\u001b[0m\u001b[1;33m)\u001b[0m\u001b[1;33m)\u001b[0m\u001b[1;33m\u001b[0m\u001b[1;33m\u001b[0m\u001b[0m\n\u001b[0;32m      6\u001b[0m \u001b[0mprint\u001b[0m\u001b[1;33m(\u001b[0m\u001b[1;34m\"MSE : \"\u001b[0m\u001b[1;33m+\u001b[0m\u001b[0mstr\u001b[0m\u001b[1;33m(\u001b[0m\u001b[0mnp\u001b[0m\u001b[1;33m.\u001b[0m\u001b[0msqrt\u001b[0m\u001b[1;33m(\u001b[0m\u001b[0mnp\u001b[0m\u001b[1;33m.\u001b[0m\u001b[0msquare\u001b[0m\u001b[1;33m(\u001b[0m\u001b[0mnp\u001b[0m\u001b[1;33m.\u001b[0m\u001b[0msubtract\u001b[0m\u001b[1;33m(\u001b[0m\u001b[0mb\u001b[0m\u001b[1;33m,\u001b[0m\u001b[0msubjective_scores\u001b[0m\u001b[1;33m)\u001b[0m\u001b[1;33m)\u001b[0m\u001b[1;33m.\u001b[0m\u001b[0mmean\u001b[0m\u001b[1;33m(\u001b[0m\u001b[1;33m)\u001b[0m\u001b[1;33m)\u001b[0m\u001b[1;33m)\u001b[0m\u001b[1;33m)\u001b[0m\u001b[1;33m\u001b[0m\u001b[1;33m\u001b[0m\u001b[0m\n",
      "\u001b[1;31mNameError\u001b[0m: name 'b' is not defined"
     ]
    }
   ],
   "source": [
    "#normal corr. coefficient results\n",
    "\n",
    "from scipy import stats\n",
    "print(\"Pearson Coeff : \"+str(scipy.stats.pearsonr(b,subjective_scores)[0]))\n",
    "print(\"Spearman Coeff : \"+str(scipy.stats.spearmanr(b,subjective_scores)[0]))\n",
    "print(\"MSE : \"+str(np.sqrt(np.square(np.subtract(b,subjective_scores)).mean())))\n"
   ]
  },
  {
   "cell_type": "code",
   "execution_count": null,
   "metadata": {},
   "outputs": [],
   "source": []
  }
 ],
 "metadata": {
  "kernelspec": {
   "display_name": "Python 3",
   "language": "python",
   "name": "python3"
  },
  "language_info": {
   "codemirror_mode": {
    "name": "ipython",
    "version": 3
   },
   "file_extension": ".py",
   "mimetype": "text/x-python",
   "name": "python",
   "nbconvert_exporter": "python",
   "pygments_lexer": "ipython3",
   "version": "3.8.3"
  }
 },
 "nbformat": 4,
 "nbformat_minor": 4
}
